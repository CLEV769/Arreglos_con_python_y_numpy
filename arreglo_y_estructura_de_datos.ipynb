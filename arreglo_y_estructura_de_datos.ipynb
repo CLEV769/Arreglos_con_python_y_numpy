{
  "nbformat": 4,
  "nbformat_minor": 0,
  "metadata": {
    "colab": {
      "provenance": [],
      "authorship_tag": "ABX9TyNv8L0rZSJwR5xIUS3CZyBk",
      "include_colab_link": true
    },
    "kernelspec": {
      "name": "python3",
      "display_name": "Python 3"
    },
    "language_info": {
      "name": "python"
    }
  },
  "cells": [
    {
      "cell_type": "markdown",
      "metadata": {
        "id": "view-in-github",
        "colab_type": "text"
      },
      "source": [
        "<a href=\"https://colab.research.google.com/github/CLEV769/Arreglos_con_python_y_numpy/blob/main/arreglo_y_estructura_de_datos.ipynb\" target=\"_parent\"><img src=\"https://colab.research.google.com/assets/colab-badge.svg\" alt=\"Open In Colab\"/></a>"
      ]
    },
    {
      "cell_type": "code",
      "execution_count": 55,
      "metadata": {
        "colab": {
          "base_uri": "https://localhost:8080/",
          "height": 211
        },
        "id": "xvVE8HRYXWGm",
        "outputId": "b6b553b1-8887-40e5-ec19-9b7c387393c6"
      },
      "outputs": [
        {
          "output_type": "error",
          "ename": "TypeError",
          "evalue": "'dict' object is not callable",
          "traceback": [
            "\u001b[0;31m---------------------------------------------------------------------------\u001b[0m",
            "\u001b[0;31mTypeError\u001b[0m                                 Traceback (most recent call last)",
            "\u001b[0;32m/tmp/ipython-input-2490100545.py\u001b[0m in \u001b[0;36m<cell line: 0>\u001b[0;34m()\u001b[0m\n\u001b[1;32m     14\u001b[0m \u001b[0;32mimport\u001b[0m \u001b[0mrandom\u001b[0m\u001b[0;34m\u001b[0m\u001b[0;34m\u001b[0m\u001b[0m\n\u001b[1;32m     15\u001b[0m \u001b[0mceros\u001b[0m \u001b[0;34m=\u001b[0m \u001b[0;34m{\u001b[0m\u001b[0;36m0\u001b[0m\u001b[0;34m,\u001b[0m\u001b[0;36m0\u001b[0m\u001b[0;34m,\u001b[0m\u001b[0;36m0\u001b[0m\u001b[0;34m,\u001b[0m\u001b[0;36m0\u001b[0m\u001b[0;34m}\u001b[0m\u001b[0;34m\u001b[0m\u001b[0;34m\u001b[0m\u001b[0m\n\u001b[0;32m---> 16\u001b[0;31m \u001b[0mprint\u001b[0m\u001b[0;34m(\u001b[0m\u001b[0mceros\u001b[0m\u001b[0;34m)\u001b[0m\u001b[0;34m\u001b[0m\u001b[0;34m\u001b[0m\u001b[0m\n\u001b[0m\u001b[1;32m     17\u001b[0m \u001b[0;34m\u001b[0m\u001b[0m\n\u001b[1;32m     18\u001b[0m \u001b[0munos\u001b[0m \u001b[0;34m=\u001b[0m \u001b[0;34m{\u001b[0m\u001b[0;36m1\u001b[0m\u001b[0;34m,\u001b[0m\u001b[0;36m1\u001b[0m\u001b[0;34m,\u001b[0m\u001b[0;36m1\u001b[0m\u001b[0;34m,\u001b[0m\u001b[0;36m1\u001b[0m\u001b[0;34m,\u001b[0m\u001b[0;36m1\u001b[0m\u001b[0;34m,\u001b[0m\u001b[0;36m1\u001b[0m\u001b[0;34m,\u001b[0m\u001b[0;36m1\u001b[0m\u001b[0;34m,\u001b[0m\u001b[0;36m11\u001b[0m\u001b[0;34m,\u001b[0m\u001b[0;36m1\u001b[0m\u001b[0;34m}\u001b[0m\u001b[0;34m\u001b[0m\u001b[0;34m\u001b[0m\u001b[0m\n",
            "\u001b[0;31mTypeError\u001b[0m: 'dict' object is not callable"
          ]
        }
      ],
      "source": [
        "# Crear conjuntos\n",
        "# Listas []\n",
        "# Tuplas ()\n",
        "# Conjuntos {}\n",
        "# Diccionarios {} la diferencia es que se debe definir clave y valor.\n",
        "\n",
        "# Creacion de un conjunto\n",
        "Conjunto = set()\n",
        "\"\"\"\n",
        "Los conjuntos no permiten datos repetidos.\n",
        "Los conjuntos no permite hacer  con listas directamente general..\n",
        "\"\"\"\n",
        "\n",
        "import random\n",
        "ceros = {0,0,0,0}\n",
        "print(ceros)\n",
        "\n",
        "unos = {1,1,1,1,1,1,1,11,1}\n",
        "print(unos)\n",
        "\n",
        "# Valores aleatorios\n",
        "aleatorios = {random.randint(0,100) for i in range(10)}\n",
        "print(aleatorios)"
      ]
    },
    {
      "cell_type": "code",
      "source": [
        "#Operaciones tipo crud con conjuntos\n",
        "Conjunto = {1,2,3,4,5,6,7,8,9}\n",
        "print(Conjunto)\n",
        "\n",
        "#Insertar datos \"add\"\n",
        "Conjunto.add(34)\n",
        "# Eliminar remove\n",
        "\"\"\" Ojo genera error si no encuentra valor a eliminar\"\"\"\n",
        "Conjunto.remove(34)\n",
        "# Elimina sin error, pero no genera error si no encuentra el valor\n",
        "Conjunto.discard(11)\n",
        "# Leer un dato en especial\n",
        "print(4 in Conjunto)\n",
        "print(Conjunto)"
      ],
      "metadata": {
        "id": "uVPxo_kVaNcl",
        "colab": {
          "base_uri": "https://localhost:8080/",
          "height": 211
        },
        "outputId": "e6fab382-96c4-4270-b3f2-ae5d815c11c1"
      },
      "execution_count": 56,
      "outputs": [
        {
          "output_type": "error",
          "ename": "TypeError",
          "evalue": "'dict' object is not callable",
          "traceback": [
            "\u001b[0;31m---------------------------------------------------------------------------\u001b[0m",
            "\u001b[0;31mTypeError\u001b[0m                                 Traceback (most recent call last)",
            "\u001b[0;32m/tmp/ipython-input-663301392.py\u001b[0m in \u001b[0;36m<cell line: 0>\u001b[0;34m()\u001b[0m\n\u001b[1;32m      1\u001b[0m \u001b[0;31m#Operaciones tipo crud con conjuntos\u001b[0m\u001b[0;34m\u001b[0m\u001b[0;34m\u001b[0m\u001b[0m\n\u001b[1;32m      2\u001b[0m \u001b[0mConjunto\u001b[0m \u001b[0;34m=\u001b[0m \u001b[0;34m{\u001b[0m\u001b[0;36m1\u001b[0m\u001b[0;34m,\u001b[0m\u001b[0;36m2\u001b[0m\u001b[0;34m,\u001b[0m\u001b[0;36m3\u001b[0m\u001b[0;34m,\u001b[0m\u001b[0;36m4\u001b[0m\u001b[0;34m,\u001b[0m\u001b[0;36m5\u001b[0m\u001b[0;34m,\u001b[0m\u001b[0;36m6\u001b[0m\u001b[0;34m,\u001b[0m\u001b[0;36m7\u001b[0m\u001b[0;34m,\u001b[0m\u001b[0;36m8\u001b[0m\u001b[0;34m,\u001b[0m\u001b[0;36m9\u001b[0m\u001b[0;34m}\u001b[0m\u001b[0;34m\u001b[0m\u001b[0;34m\u001b[0m\u001b[0m\n\u001b[0;32m----> 3\u001b[0;31m \u001b[0mprint\u001b[0m\u001b[0;34m(\u001b[0m\u001b[0mConjunto\u001b[0m\u001b[0;34m)\u001b[0m\u001b[0;34m\u001b[0m\u001b[0;34m\u001b[0m\u001b[0m\n\u001b[0m\u001b[1;32m      4\u001b[0m \u001b[0;34m\u001b[0m\u001b[0m\n\u001b[1;32m      5\u001b[0m \u001b[0;31m#Insertar datos \"add\"\u001b[0m\u001b[0;34m\u001b[0m\u001b[0;34m\u001b[0m\u001b[0m\n",
            "\u001b[0;31mTypeError\u001b[0m: 'dict' object is not callable"
          ]
        }
      ]
    },
    {
      "cell_type": "code",
      "source": [
        "# Propiedades de conjuntos para entender como podemos consultar datos entre Json, yml entre otros\n",
        "A = {1,2,3,4,5,6,7,8,9,10}\n",
        "B = {11,12,13,12,14,15,16,17,18,19,20}\n",
        "# Union\n",
        "print(\"Union:\", A | B)\n",
        "# Interseccion\n",
        "print(\"Interseccion:\", A & B)\n",
        "# Diferencia\n",
        "print(\"Diferencia:\", A - B)\n",
        "# Diferencia simetrica\n",
        "print(\"Diferencia simetrica:\", A ^ B)\n",
        "\n",
        "lista = (1,2,3,4,5, ['Hola', True])\n",
        "tupla = tuple(lista)\n",
        "print(tupla)\n",
        "print(lista)\n",
        "#A.update(tupla)#Genera error por que no tiene compatibilidad tipos\n",
        "print(A)"
      ],
      "metadata": {
        "colab": {
          "base_uri": "https://localhost:8080/",
          "height": 211
        },
        "id": "ygTm8zp3ddj8",
        "outputId": "23e10c89-7409-46c8-f54e-390042833691"
      },
      "execution_count": null,
      "outputs": [
        {
          "output_type": "error",
          "ename": "TypeError",
          "evalue": "'dict' object is not callable",
          "traceback": [
            "\u001b[0;31m---------------------------------------------------------------------------\u001b[0m",
            "\u001b[0;31mTypeError\u001b[0m                                 Traceback (most recent call last)",
            "\u001b[0;32m/tmp/ipython-input-1345901001.py\u001b[0m in \u001b[0;36m<cell line: 0>\u001b[0;34m()\u001b[0m\n\u001b[1;32m      3\u001b[0m \u001b[0mB\u001b[0m \u001b[0;34m=\u001b[0m \u001b[0;34m{\u001b[0m\u001b[0;36m11\u001b[0m\u001b[0;34m,\u001b[0m\u001b[0;36m12\u001b[0m\u001b[0;34m,\u001b[0m\u001b[0;36m13\u001b[0m\u001b[0;34m,\u001b[0m\u001b[0;36m12\u001b[0m\u001b[0;34m,\u001b[0m\u001b[0;36m14\u001b[0m\u001b[0;34m,\u001b[0m\u001b[0;36m15\u001b[0m\u001b[0;34m,\u001b[0m\u001b[0;36m16\u001b[0m\u001b[0;34m,\u001b[0m\u001b[0;36m17\u001b[0m\u001b[0;34m,\u001b[0m\u001b[0;36m18\u001b[0m\u001b[0;34m,\u001b[0m\u001b[0;36m19\u001b[0m\u001b[0;34m,\u001b[0m\u001b[0;36m20\u001b[0m\u001b[0;34m}\u001b[0m\u001b[0;34m\u001b[0m\u001b[0;34m\u001b[0m\u001b[0m\n\u001b[1;32m      4\u001b[0m \u001b[0;31m# Union\u001b[0m\u001b[0;34m\u001b[0m\u001b[0;34m\u001b[0m\u001b[0m\n\u001b[0;32m----> 5\u001b[0;31m \u001b[0mprint\u001b[0m\u001b[0;34m(\u001b[0m\u001b[0;34m\"Union:\"\u001b[0m\u001b[0;34m,\u001b[0m \u001b[0mA\u001b[0m \u001b[0;34m|\u001b[0m \u001b[0mB\u001b[0m\u001b[0;34m)\u001b[0m\u001b[0;34m\u001b[0m\u001b[0;34m\u001b[0m\u001b[0m\n\u001b[0m\u001b[1;32m      6\u001b[0m \u001b[0;31m# Interseccion\u001b[0m\u001b[0;34m\u001b[0m\u001b[0;34m\u001b[0m\u001b[0m\n\u001b[1;32m      7\u001b[0m \u001b[0mprint\u001b[0m\u001b[0;34m(\u001b[0m\u001b[0;34m\"Interseccion:\"\u001b[0m\u001b[0;34m,\u001b[0m \u001b[0mA\u001b[0m \u001b[0;34m&\u001b[0m \u001b[0mB\u001b[0m\u001b[0;34m)\u001b[0m\u001b[0;34m\u001b[0m\u001b[0;34m\u001b[0m\u001b[0m\n",
            "\u001b[0;31mTypeError\u001b[0m: 'dict' object is not callable"
          ]
        }
      ]
    },
    {
      "cell_type": "code",
      "source": [
        "# Diccionarios\n",
        "# Clave t valor\n",
        "usuario = {\"id\": 1, \"Nombre\": \"Sebastian\", \"Apellido\": \"Bavilonia\", \"edad\": 25}\n",
        "print(usuario)\n",
        "\n",
        "# Lectura\n",
        "print(\"Usuario de la clave Nombre:\", usuario[\"Nombre\"])\n",
        "\n",
        "# Otra forma de leer el dato sin que cause error es con get\n",
        "print(usuario.get(\"Nombre\"))\n",
        "\n",
        "# Actualizar datos\n",
        "usuario[\"edad\"] = 26  # Ejemplo de actualización\n",
        "print(usuario)\n",
        "\n",
        "# Agregar y eliminar\n",
        "del usuario[\"id\"]\n",
        "print(usuario)\n",
        "\n",
        "# Crear varios usuarios en una lista de diccionarios\n",
        "usuarios = [\n",
        "    {\"id\": \"2\", \"Nombre\": \"Sebastian\", \"edad\": \"25\"},\n",
        "    {\"id\": \"3\", \"Nombre\": \"Sebastian\", \"edad\": \"25\"},\n",
        "    {\"id\": \"4\", \"Nombre\": \"Sebastian\", \"edad\": \"25\"}\n",
        "]\n",
        "print(\"\\n\", usuarios)"
      ],
      "metadata": {
        "id": "epHP0lpgx0VZ",
        "colab": {
          "base_uri": "https://localhost:8080/",
          "height": 211
        },
        "outputId": "3315df7e-d4d8-4cf3-8cf3-fc6bce1dcea1"
      },
      "execution_count": 60,
      "outputs": [
        {
          "output_type": "error",
          "ename": "TypeError",
          "evalue": "'dict' object is not callable",
          "traceback": [
            "\u001b[0;31m---------------------------------------------------------------------------\u001b[0m",
            "\u001b[0;31mTypeError\u001b[0m                                 Traceback (most recent call last)",
            "\u001b[0;32m/tmp/ipython-input-1780300134.py\u001b[0m in \u001b[0;36m<cell line: 0>\u001b[0;34m()\u001b[0m\n\u001b[1;32m      2\u001b[0m \u001b[0;31m# Clave t valor\u001b[0m\u001b[0;34m\u001b[0m\u001b[0;34m\u001b[0m\u001b[0m\n\u001b[1;32m      3\u001b[0m \u001b[0musuario\u001b[0m \u001b[0;34m=\u001b[0m \u001b[0;34m{\u001b[0m\u001b[0;34m\"id\"\u001b[0m\u001b[0;34m:\u001b[0m \u001b[0;36m1\u001b[0m\u001b[0;34m,\u001b[0m \u001b[0;34m\"Nombre\"\u001b[0m\u001b[0;34m:\u001b[0m \u001b[0;34m\"Sebastian\"\u001b[0m\u001b[0;34m,\u001b[0m \u001b[0;34m\"Apellido\"\u001b[0m\u001b[0;34m:\u001b[0m \u001b[0;34m\"Bavilonia\"\u001b[0m\u001b[0;34m,\u001b[0m \u001b[0;34m\"edad\"\u001b[0m\u001b[0;34m:\u001b[0m \u001b[0;36m25\u001b[0m\u001b[0;34m}\u001b[0m\u001b[0;34m\u001b[0m\u001b[0;34m\u001b[0m\u001b[0m\n\u001b[0;32m----> 4\u001b[0;31m \u001b[0mprint\u001b[0m\u001b[0;34m(\u001b[0m\u001b[0musuario\u001b[0m\u001b[0;34m)\u001b[0m\u001b[0;34m\u001b[0m\u001b[0;34m\u001b[0m\u001b[0m\n\u001b[0m\u001b[1;32m      5\u001b[0m \u001b[0;34m\u001b[0m\u001b[0m\n\u001b[1;32m      6\u001b[0m \u001b[0;31m# Lectura\u001b[0m\u001b[0;34m\u001b[0m\u001b[0;34m\u001b[0m\u001b[0m\n",
            "\u001b[0;31mTypeError\u001b[0m: 'dict' object is not callable"
          ]
        }
      ]
    },
    {
      "cell_type": "code",
      "source": [
        "# CRUD de usuarios usando una lista de diccionarios\n",
        "\n",
        "usuarios = [\n",
        "    {\"id\": \"1\", \"Nombre\": \"Sebastian\", \"edad\": \"25\"},\n",
        "    {\"id\": \"2\", \"Nombre\": \"Juanita\", \"edad\": \"30\"},\n",
        "    {\"id\": \"3\", \"Nombre\": \"Sofia\", \"edad\": \"20\"},\n",
        "    {\"id\": \"4\", \"Nombre\": \"Carlos\", \"edad\": \"28\"},\n",
        "    {\"id\": \"5\", \"Nombre\": \"María\", \"edad\": \"22\"}\n",
        "]\n",
        "\n",
        "def buscar_usuario(id):# Buscar usuario por id\n",
        "    for usuario in usuarios:# Iterar sobre la lista de usuarios\n",
        "        if usuario[\"id\"] == id:# Comparar el id del usuario\n",
        "            return usuario # Retornar el usuario encontrado\n",
        "    return None # Retornar None si no se encuentra el usuario\n",
        "\n",
        "while True:\n",
        "    print(\"\\n¿Qué desea hacer?\")\n",
        "    print(\"1-Crear un usuario\")\n",
        "    print(\"2-Leer un usuario\")\n",
        "    print(\"3-Actualizar un usuario\")\n",
        "    print(\"4-Eliminar un usuario\")\n",
        "    print(\"5-Mostrar todos los usuarios\")\n",
        "    print(\"6-Salir\")\n",
        "    opcion = input(\"Por favor ingrese una opción: \").strip()\n",
        "\n",
        "    if opcion == \"1\":\n",
        "        id = input(\"Ingrese el id: \")\n",
        "        nombre = input(\"Ingrese el nombre: \")\n",
        "        edad = input(\"Ingrese la edad: \")\n",
        "        if buscar_usuario(id):\n",
        "            print(\"El usuario con ese ID ya existe.\")\n",
        "        else:\n",
        "            usuarios.append({\"id\": id, \"Nombre\": nombre, \"edad\": edad})\n",
        "            print(\"Usuario creado.\")\n",
        "    elif opcion == \"2\":\n",
        "        id = input(\"Ingrese el id: \")\n",
        "        usuario = buscar_usuario(id)\n",
        "        if usuario:\n",
        "            print(usuario)\n",
        "        else:\n",
        "            print(\"Usuario no encontrado.\")\n",
        "    elif opcion == \"3\":\n",
        "        id = input(\"Ingrese el id: \")\n",
        "        usuario = buscar_usuario(id)\n",
        "        if usuario:\n",
        "            nombre = input(\"Ingrese el nuevo nombre: \")\n",
        "            edad = input(\"Ingrese la nueva edad: \")\n",
        "            usuario[\"Nombre\"] = nombre\n",
        "            usuario[\"edad\"] = edad\n",
        "            print(\"Usuario actualizado.\")\n",
        "        else:\n",
        "            print(\"Usuario no encontrado.\")\n",
        "    elif opcion == \"4\":\n",
        "        id = input(\"Ingrese el id: \")\n",
        "        usuario = buscar_usuario(id)\n",
        "        if usuario:\n",
        "            usuarios.remove(usuario)\n",
        "            print(\"Usuario eliminado.\")\n",
        "        else:\n",
        "            print(\"Usuario no encontrado.\")\n",
        "    elif opcion == \"5\":\n",
        "        print(\"Usuarios:\")\n",
        "        for usuario in usuarios:\n",
        "            print(usuario)\n",
        "    elif opcion == \"6\":\n",
        "        print(\"Gracias por usar\")\n",
        "        break\n",
        "    else:\n",
        "        print(\"Opción no válida.\")\n",
        "\n",
        "\n"
      ],
      "metadata": {
        "id": "4ruYLEJV86lO",
        "colab": {
          "base_uri": "https://localhost:8080/",
          "height": 211
        },
        "outputId": "34b8007e-10b9-4be0-aec7-3ab85024efd5"
      },
      "execution_count": 63,
      "outputs": [
        {
          "output_type": "error",
          "ename": "TypeError",
          "evalue": "'dict' object is not callable",
          "traceback": [
            "\u001b[0;31m---------------------------------------------------------------------------\u001b[0m",
            "\u001b[0;31mTypeError\u001b[0m                                 Traceback (most recent call last)",
            "\u001b[0;32m/tmp/ipython-input-1463468965.py\u001b[0m in \u001b[0;36m<cell line: 0>\u001b[0;34m()\u001b[0m\n\u001b[1;32m     16\u001b[0m \u001b[0;34m\u001b[0m\u001b[0m\n\u001b[1;32m     17\u001b[0m \u001b[0;32mwhile\u001b[0m \u001b[0;32mTrue\u001b[0m\u001b[0;34m:\u001b[0m\u001b[0;34m\u001b[0m\u001b[0;34m\u001b[0m\u001b[0m\n\u001b[0;32m---> 18\u001b[0;31m     \u001b[0mprint\u001b[0m\u001b[0;34m(\u001b[0m\u001b[0;34m\"\\n¿Qué desea hacer?\"\u001b[0m\u001b[0;34m)\u001b[0m\u001b[0;34m\u001b[0m\u001b[0;34m\u001b[0m\u001b[0m\n\u001b[0m\u001b[1;32m     19\u001b[0m     \u001b[0mprint\u001b[0m\u001b[0;34m(\u001b[0m\u001b[0;34m\"1-Crear un usuario\"\u001b[0m\u001b[0;34m)\u001b[0m\u001b[0;34m\u001b[0m\u001b[0;34m\u001b[0m\u001b[0m\n\u001b[1;32m     20\u001b[0m     \u001b[0mprint\u001b[0m\u001b[0;34m(\u001b[0m\u001b[0;34m\"2-Leer un usuario\"\u001b[0m\u001b[0;34m)\u001b[0m\u001b[0;34m\u001b[0m\u001b[0;34m\u001b[0m\u001b[0m\n",
            "\u001b[0;31mTypeError\u001b[0m: 'dict' object is not callable"
          ]
        }
      ]
    }
  ]
}