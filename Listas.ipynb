{
  "nbformat": 4,
  "nbformat_minor": 0,
  "metadata": {
    "colab": {
      "provenance": [],
      "authorship_tag": "ABX9TyNBwKD/jDEuIvdu20iDw9M4",
      "include_colab_link": true
    },
    "kernelspec": {
      "name": "python3",
      "display_name": "Python 3"
    },
    "language_info": {
      "name": "python"
    }
  },
  "cells": [
    {
      "cell_type": "markdown",
      "metadata": {
        "id": "view-in-github",
        "colab_type": "text"
      },
      "source": [
        "<a href=\"https://colab.research.google.com/github/CLEV769/Arreglos_con_python_y_numpy/blob/main/Listas.ipynb\" target=\"_parent\"><img src=\"https://colab.research.google.com/assets/colab-badge.svg\" alt=\"Open In Colab\"/></a>"
      ]
    },
    {
      "cell_type": "code",
      "execution_count": 2,
      "metadata": {
        "colab": {
          "base_uri": "https://localhost:8080/"
        },
        "id": "60ZJvI_yHc1H",
        "outputId": "39cda195-966a-40e4-ec5f-b112ce18c389"
      },
      "outputs": [
        {
          "output_type": "stream",
          "name": "stdout",
          "text": [
            "[1, 2, 3, 4, 5, 6, 7, 8, 9]\n",
            "7\n",
            "[1, 'Hola']\n",
            "[1, True, 'Hola']\n",
            "El ultimo elemento de la lista es: Hola\n",
            "Cuantos elementos tiene la lista: 3\n",
            "[True, 'Hola']\n",
            "['Hola']\n",
            "['nuevo valor']\n",
            "\u001b[36m Lista modificada: \u001b[0m ['nuevo valor']\n",
            "['nuevo valor', 1, 2, 3, 4, 5]\n",
            "\u001b[35m Lista extendida: \u001b[0m ['nuevo valor', 1, 2, 3, 4, 5]\n",
            "\u001b[34m Lista de listas: \u001b[0m ([1, 2, 3], [4, 5, 6], [7, 8, 9])\n",
            "\u001b[33m Elemento de la lista de lista: 6 \u001b[0m\n",
            "\u001b[32m Lista aleatoria: \u001b[0m [77, 80, 44, 30, 62, 93, 55, 47, 78, 92]\n",
            "\u001b[31m Lista numpy: \u001b[0m [63, 27, 41, 96, 64, 68, 47, 15, 27, 76]\n",
            "\u001b[30m Lista numpy ordenada: \u001b[0m [15, 27, 27, 41, 47, 63, 64, 68, 76, 96]\n",
            "\u001b[36m Lista numpy invertida: \u001b[0m [96, 76, 68, 64, 63, 47, 41, 27, 27, 15]\n",
            "\u001b[34m Elemento de la lista aleatoria: 93 \u001b[0m\n",
            "\u001b[31m Elemento de la lista numpy: 47 \u001b[0m\n",
            "\u001b[32m Elemento de la lista numpy: 1 \u001b[0m\n",
            "\u001b[33m Contar elemento de la lista aleatoria: 0 \u001b[0m\n",
            "\u001b[34m Lista copiada: \u001b[0m [77, 80, 44, 30, 62, 93, 55, 47, 78, 92]\n",
            "\u001b[35m Lista numpy con slicing: \u001b[0m [96, 76, 68, 64, 63, 47, 41, 27, 27, 15]\n",
            "\u001b[36m Lista concatenada: \u001b[0m ['nuevo valor', 1, 2, 3, 4, 5, 77, 80, 44, 30, 62, 93, 55, 47, 78, 92]\n",
            "\u001b[37m Mayor valor de la lista copiada: 93 \u001b[0m\n",
            "\u001b[37m Menor valor de la lista copiada: 30 \u001b[0m\n",
            "\u001b[37m Tamaño de los elementos de la lista copiada: 10 \u001b[0m\n"
          ]
        }
      ],
      "source": [
        "lista = [1, 2, 3, 4, 5, 6, 7, 8, 9]\n",
        "print (lista)\n",
        "print (lista[6])\n",
        "\n",
        "lista_vacia = []\n",
        "lista_vacia.append(1)\n",
        "lista_vacia.append(\"Hola\")\n",
        "print(lista_vacia)\n",
        "\n",
        "lista_vacia.insert(1, True)\n",
        "print(lista_vacia)\n",
        "\n",
        "print(f\"El ultimo elemento de la lista es: {lista_vacia[-1]}\")\n",
        "print(f\"Cuantos elementos tiene la lista: {len(lista_vacia)}\")\n",
        "\n",
        "lista_vacia.remove(1)\n",
        "print(lista_vacia)\n",
        "\n",
        "lista_vacia.pop(0)\n",
        "print(lista_vacia)\n",
        "\n",
        "lista_vacia[0] = \"nuevo valor\"\n",
        "print(lista_vacia)\n",
        "\n",
        "print(\"\\033[36m Lista modificada: \\033[0m\", lista_vacia)\n",
        "\n",
        "lista_vacia.extend([1, 2, 3, 4, 5])\n",
        "print(lista_vacia)\n",
        "print(\"\\033[35m Lista extendida: \\033[0m\", lista_vacia)\n",
        "\n",
        "lista_de_listas = [1,2,3],[4,5,6],[7,8,9]\n",
        "print(\"\\033[34m Lista de listas: \\033[0m\", lista_de_listas)\n",
        "\n",
        "print(\"\\033[33m Elemento de la lista de lista:\", lista_de_listas[1][2], \"\\033[0m\")\n",
        "\n",
        "import random\n",
        "lista_aleatoria = [random.randint(1, 100) for i in range(10)]\n",
        "print(\"\\033[32m Lista aleatoria: \\033[0m\", lista_aleatoria)\n",
        "\n",
        "import numpy as np\n",
        "lista_numpy = np.random.randint(1, 100, size=10).tolist()\n",
        "print(\"\\033[31m Lista numpy: \\033[0m\", lista_numpy)\n",
        "\n",
        "lista_numpy.sort()\n",
        "print(\"\\033[30m Lista numpy ordenada: \\033[0m\", lista_numpy)\n",
        "\n",
        "lista_numpy.reverse()\n",
        "print(\"\\033[36m Lista numpy invertida: \\033[0m\", lista_numpy)\n",
        "\n",
        "#buscas un elemento de la lista\n",
        "print(\"\\033[34m Elemento de la lista aleatoria:\", lista_aleatoria[5], \"\\033[0m\")\n",
        "print(\"\\033[31m Elemento de la lista numpy:\", lista_numpy[5], \"\\033[0m\")\n",
        "print(\"\\033[32m Elemento de la lista numpy:\", lista_vacia.index(1), \"\\033[0m\")\n",
        "\n",
        "print(\"\\033[33m Contar elemento de la lista aleatoria:\", lista_aleatoria.count(50), \"\\033[0m\")\n",
        "\n",
        "lista_copiada = lista_aleatoria.copy()\n",
        "print(\"\\033[34m Lista copiada: \\033[0m\", lista_copiada)\n",
        "\n",
        "\n",
        "listaCopia = lista_numpy[:]\n",
        "print(\"\\033[35m Lista numpy con slicing: \\033[0m\", listaCopia)\n",
        "\n",
        "lista_concatenada = lista_vacia + lista_copiada\n",
        "print(\"\\033[36m Lista concatenada: \\033[0m\", lista_concatenada)\n",
        "\n",
        "print(\"\\033[37m Mayor valor de la lista copiada:\", max(lista_copiada), \"\\033[0m\")\n",
        "print(\"\\033[37m Menor valor de la lista copiada:\", min(lista_copiada), \"\\033[0m\")\n",
        "print(\"\\033[37m Tamaño de los elementos de la lista copiada:\", len(lista_copiada), \"\\033[0m\")"
      ]
    }
  ]
}