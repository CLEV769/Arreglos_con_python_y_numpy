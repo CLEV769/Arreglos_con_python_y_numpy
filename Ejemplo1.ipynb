{
  "nbformat": 4,
  "nbformat_minor": 0,
  "metadata": {
    "colab": {
      "provenance": [],
      "authorship_tag": "ABX9TyP7uWAfWJ4A04uuVjMIjfFJ",
      "include_colab_link": true
    },
    "kernelspec": {
      "name": "python3",
      "display_name": "Python 3"
    },
    "language_info": {
      "name": "python"
    }
  },
  "cells": [
    {
      "cell_type": "markdown",
      "metadata": {
        "id": "view-in-github",
        "colab_type": "text"
      },
      "source": [
        "<a href=\"https://colab.research.google.com/github/CLEV769/Arreglos_con_python_y_numpy/blob/main/Ejemplo1.ipynb\" target=\"_parent\"><img src=\"https://colab.research.google.com/assets/colab-badge.svg\" alt=\"Open In Colab\"/></a>"
      ]
    },
    {
      "cell_type": "code",
      "execution_count": 1,
      "metadata": {
        "colab": {
          "base_uri": "https://localhost:8080/"
        },
        "id": "00BO7GAXDjM4",
        "outputId": "3328c426-acc6-48bc-ee3c-adc85c087008"
      },
      "outputs": [
        {
          "output_type": "stream",
          "name": "stdout",
          "text": [
            "Vector: [ 1  2  3  4  5  6  7  8  9 10]\n"
          ]
        }
      ],
      "source": [
        "import numpy as np\n",
        "#Importa la biblioteca NumPy para manejo de vectores y matrices y el as es como un alias\n",
        "#Prime ejemplo de numpy con vectores\n",
        "vector = np.array([1,2,3,4,5,6,7,8,9,10]) #Crea un vector con los elementos 1,2,3,4,5,6,7,8,9,10\n",
        "#La función array de NumPy sirve para crear arreglos (vectores o matrices) en Python\n",
        "print (\"Vector:\", vector)"
      ]
    }
  ]
}