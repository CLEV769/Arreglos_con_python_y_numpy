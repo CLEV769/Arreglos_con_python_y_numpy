{
  "nbformat": 4,
  "nbformat_minor": 0,
  "metadata": {
    "colab": {
      "provenance": [],
      "authorship_tag": "ABX9TyPVE+D3ZvJPRxOiFdt7qA9k",
      "include_colab_link": true
    },
    "kernelspec": {
      "name": "python3",
      "display_name": "Python 3"
    },
    "language_info": {
      "name": "python"
    }
  },
  "cells": [
    {
      "cell_type": "markdown",
      "metadata": {
        "id": "view-in-github",
        "colab_type": "text"
      },
      "source": [
        "<a href=\"https://colab.research.google.com/github/CLEV769/Arreglos_con_python_y_numpy/blob/main/Tuplas.ipynb\" target=\"_parent\"><img src=\"https://colab.research.google.com/assets/colab-badge.svg\" alt=\"Open In Colab\"/></a>"
      ]
    },
    {
      "cell_type": "code",
      "execution_count": 1,
      "metadata": {
        "colab": {
          "base_uri": "https://localhost:8080/"
        },
        "id": "60ZJvI_yHc1H",
        "outputId": "2881ec1a-4094-4ac6-9510-f2dd9ca40611"
      },
      "outputs": [
        {
          "output_type": "stream",
          "name": "stdout",
          "text": [
            "Tupla: (1, 2, 3, 4, 5)\n",
            "Longitud de la tupla: 5\n",
            "Primer elemento de la tupla: 1\n",
            "Ultimo elemento de la tupla: 5\n",
            "Buscar elemento en la tupla: True\n",
            "Buscar elemento en la tupla: 1\n"
          ]
        }
      ],
      "source": [
        "#Crear tupla\n",
        "tupla = (1,2,3,4,5)\n",
        "print (\"Tupla:\", tupla)\n",
        "print (\"Longitud de la tupla:\", len(tupla)) #Longitud de le tupla\n",
        "print (\"Primer elemento de la tupla:\", tupla[0]) #Primer elemento de la tupla\n",
        "print (\"Ultimo elemento de la tupla:\", tupla[-1]) #Ultimo elemento de la tupla (Siempre es con -1)\n",
        "#Buscar un elemento en la tupla\n",
        "print (\"Buscar elemento en la tupla:\", 3 in tupla) #Verifica si el numero 3 esta en tupla\n",
        "print (\"Buscar elemento en la tupla:\", tupla.index(2)) #Aca devuelve la posicion en el que esta este numero"
      ]
    }
  ]
}