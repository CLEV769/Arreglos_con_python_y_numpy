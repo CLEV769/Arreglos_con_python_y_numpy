{
  "nbformat": 4,
  "nbformat_minor": 0,
  "metadata": {
    "colab": {
      "provenance": [],
      "authorship_tag": "ABX9TyMpO/wwQJG3yfVgqH4RrNdW",
      "include_colab_link": true
    },
    "kernelspec": {
      "name": "python3",
      "display_name": "Python 3"
    },
    "language_info": {
      "name": "python"
    }
  },
  "cells": [
    {
      "cell_type": "markdown",
      "metadata": {
        "id": "view-in-github",
        "colab_type": "text"
      },
      "source": [
        "<a href=\"https://colab.research.google.com/github/CLEV769/Arreglos_con_python_y_numpy/blob/main/Untitled1.ipynb\" target=\"_parent\"><img src=\"https://colab.research.google.com/assets/colab-badge.svg\" alt=\"Open In Colab\"/></a>"
      ]
    },
    {
      "cell_type": "code",
      "execution_count": 1,
      "metadata": {
        "colab": {
          "base_uri": "https://localhost:8080/"
        },
        "id": "00BO7GAXDjM4",
        "outputId": "3328c426-acc6-48bc-ee3c-adc85c087008"
      },
      "outputs": [
        {
          "output_type": "stream",
          "name": "stdout",
          "text": [
            "Vector: [ 1  2  3  4  5  6  7  8  9 10]\n"
          ]
        }
      ],
      "source": [
        "import numpy as np\n",
        "#Importa la biblioteca NumPy para manejo de vectores y matrices y el as es como un alias\n",
        "#Prime ejemplo de numpy con vectores\n",
        "vector = np.array([1,2,3,4,5,6,7,8,9,10]) #Crea un vector con los elementos 1,2,3,4,5,6,7,8,9,10\n",
        "#La función array de NumPy sirve para crear arreglos (vectores o matrices) en Python\n",
        "print (\"Vector:\", vector)"
      ]
    },
    {
      "cell_type": "markdown",
      "metadata": {
        "id": "d071a446"
      },
      "source": [
        "Aquí hay más ejemplos de ejercicios con vectores y matrices usando NumPy."
      ]
    },
    {
      "cell_type": "code",
      "metadata": {
        "id": "3882c017"
      },
      "source": [
        "# Ejemplo de operaciones básicas con vectores\n",
        "vector1 = np.array([1, 2, 3])\n",
        "vector2 = np.array([4, 5, 6])\n",
        "\n",
        "# Suma de vectores\n",
        "suma_vectores = vector1 + vector2\n",
        "print(\"Suma de vectores:\", suma_vectores)\n",
        "\n",
        "# Multiplicación de vectores (elemento a elemento)\n",
        "multiplicacion_vectores = vector1 * vector2\n",
        "print(\"Multiplicación elemento a elemento:\", multiplicacion_vectores)\n",
        "\n",
        "# Producto escalar de vectores\n",
        "producto_escalar = np.dot(vector1, vector2)\n",
        "print(\"Producto escalar:\", producto_escalar)"
      ],
      "execution_count": null,
      "outputs": []
    },
    {
      "cell_type": "code",
      "metadata": {
        "id": "cf23c952"
      },
      "source": [
        "# Ejemplo de creación y manipulación de matrices\n",
        "matriz1 = np.array([[1, 2], [3, 4]])\n",
        "matriz2 = np.array([[5, 6], [7, 8]])\n",
        "\n",
        "print(\"Matriz 1:\\n\", matriz1)\n",
        "print(\"Matriz 2:\\n\", matriz2)\n",
        "\n",
        "# Suma de matrices\n",
        "suma_matrices = matriz1 + matriz2\n",
        "print(\"Suma de matrices:\\n\", suma_matrices)\n",
        "\n",
        "# Multiplicación de matrices\n",
        "multiplicacion_matrices = np.dot(matriz1, matriz2)\n",
        "print(\"Multiplicación de matrices:\\n\", multiplicacion_matrices)\n",
        "\n",
        "# Transpuesta de una matriz\n",
        "matriz1_transpuesta = matriz1.T\n",
        "print(\"Transpuesta de la Matriz 1:\\n\", matriz1_transpuesta)"
      ],
      "execution_count": null,
      "outputs": []
    },
    {
      "cell_type": "code",
      "metadata": {
        "id": "32ea8563"
      },
      "source": [
        "# Ejemplo de indexación y segmentación en vectores y matrices\n",
        "\n",
        "# Acceder a un elemento de un vector\n",
        "elemento_vector = vector[0] # Accede al primer elemento del vector creado en la celda anterior\n",
        "print(\"Primer elemento del vector:\", elemento_vector)\n",
        "\n",
        "# Acceder a un elemento de una matriz\n",
        "elemento_matriz = matriz1[0, 1] # Accede al elemento en la primera fila y segunda columna de matriz1\n",
        "print(\"Elemento [0, 1] de la Matriz 1:\", elemento_matriz)\n",
        "\n",
        "# Segmentación de un vector\n",
        "segmento_vector = vector[2:5] # Accede a los elementos desde el índice 2 hasta el 4 (sin incluir el 5)\n",
        "print(\"Segmento del vector:\", segmento_vector)\n",
        "\n",
        "# Segmentación de una matriz\n",
        "segmento_matriz = matriz1[:, 1] # Accede a todos los elementos de la segunda columna\n",
        "print(\"Segunda columna de la Matriz 1:\", segmento_matriz)"
      ],
      "execution_count": null,
      "outputs": []
    }
  ]
}